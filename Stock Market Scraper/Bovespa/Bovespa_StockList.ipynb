{
 "cells": [
  {
   "cell_type": "code",
   "execution_count": 81,
   "metadata": {},
   "outputs": [],
   "source": [
    "from bs4 import BeautifulSoup\n",
    "import pandas as pd\n",
    "import requests\n",
    "import string"
   ]
  },
  {
   "cell_type": "code",
   "execution_count": 82,
   "metadata": {},
   "outputs": [],
   "source": [
    "alpha_range = string.ascii_uppercase\n",
    "elements = []\n",
    "for page in alpha_range:\n",
    "    url = f\"https://br.advfn.com/bolsa-de-valores/bovespa/{page}\"\n",
    "    req = requests.get(url)\n",
    "    soup = BeautifulSoup(req.content, \"lxml\")\n",
    "    table = soup.find(\"div\", class_=\"atoz_link_table TableElement\")\n",
    "    for tr in table.find_all(\"tr\"):\n",
    "        for td in tr.find_all(\"td\"):\n",
    "            elements.append(td.text)     \n",
    "\n",
    "for page in range(0, 10):\n",
    "    url = f\"https://br.advfn.com/bolsa-de-valores/bovespa/{page}\"\n",
    "    req = requests.get(url)\n",
    "    soup = BeautifulSoup(req.content, \"lxml\")\n",
    "    table = soup.find(\"div\", class_=\"atoz_link_table TableElement\")\n",
    "    for tr in table.find_all(\"tr\"):\n",
    "        for td in tr.find_all(\"td\"):\n",
    "            elements.append(td.text)\n",
    "\n",
    "length = len(elements)    "
   ]
  },
  {
   "cell_type": "code",
   "execution_count": 83,
   "metadata": {},
   "outputs": [],
   "source": [
    "symbols = []\n",
    "for symbol in range(1, length, 2):\n",
    "       symbols.append(elements[symbol])\n",
    "\n",
    "companies = []\n",
    "for company in range(0, length, 2):\n",
    "    companies.append(elements[company])\n",
    "\n",
    "d_frame = pd.DataFrame({\n",
    "    \"Symbol\": symbols,\n",
    "    \"Company\": companies\n",
    "}, index = range(1, len(symbols)+1))"
   ]
  },
  {
   "cell_type": "code",
   "execution_count": 91,
   "metadata": {},
   "outputs": [
    {
     "data": {
      "text/html": [
       "<div>\n",
       "<style scoped>\n",
       "    .dataframe tbody tr th:only-of-type {\n",
       "        vertical-align: middle;\n",
       "    }\n",
       "\n",
       "    .dataframe tbody tr th {\n",
       "        vertical-align: top;\n",
       "    }\n",
       "\n",
       "    .dataframe thead th {\n",
       "        text-align: right;\n",
       "    }\n",
       "</style>\n",
       "<table border=\"1\" class=\"dataframe\">\n",
       "  <thead>\n",
       "    <tr style=\"text-align: right;\">\n",
       "      <th></th>\n",
       "      <th>Symbol</th>\n",
       "      <th>Company</th>\n",
       "    </tr>\n",
       "  </thead>\n",
       "  <tbody>\n",
       "    <tr>\n",
       "      <th>1</th>\n",
       "      <td>ACCC5L</td>\n",
       "      <td>ACARACOACARAPNA PNA</td>\n",
       "    </tr>\n",
       "    <tr>\n",
       "      <th>2</th>\n",
       "      <td>ADHM3</td>\n",
       "      <td>ADVANCED-DH ON</td>\n",
       "    </tr>\n",
       "    <tr>\n",
       "      <th>3</th>\n",
       "      <td>ADHM1</td>\n",
       "      <td>ADVANCED-DH ON</td>\n",
       "    </tr>\n",
       "    <tr>\n",
       "      <th>4</th>\n",
       "      <td>ADHM9</td>\n",
       "      <td>ADVANCED-DH ON</td>\n",
       "    </tr>\n",
       "    <tr>\n",
       "      <th>5</th>\n",
       "      <td>AERI3</td>\n",
       "      <td>Aeris Industria E Comerc... ON</td>\n",
       "    </tr>\n",
       "    <tr>\n",
       "      <th>...</th>\n",
       "      <td>...</td>\n",
       "      <td>...</td>\n",
       "    </tr>\n",
       "    <tr>\n",
       "      <th>942</th>\n",
       "      <td>XPLG12</td>\n",
       "      <td>XP LOG FII COTAS</td>\n",
       "    </tr>\n",
       "    <tr>\n",
       "      <th>943</th>\n",
       "      <td>XPML13</td>\n",
       "      <td>XP Malls FD Inv</td>\n",
       "    </tr>\n",
       "    <tr>\n",
       "      <th>944</th>\n",
       "      <td>YDUQ3</td>\n",
       "      <td>ESTACIO PART ON</td>\n",
       "    </tr>\n",
       "    <tr>\n",
       "      <th>945</th>\n",
       "      <td>RRRP3</td>\n",
       "      <td>3R Petroleum Oleo E Gas ... ON</td>\n",
       "    </tr>\n",
       "    <tr>\n",
       "      <th>946</th>\n",
       "      <td>QVQP3B</td>\n",
       "      <td>524 Participacoes ON</td>\n",
       "    </tr>\n",
       "  </tbody>\n",
       "</table>\n",
       "<p>946 rows × 2 columns</p>\n",
       "</div>"
      ],
      "text/plain": [
       "     Symbol                         Company\n",
       "1    ACCC5L             ACARACOACARAPNA PNA\n",
       "2     ADHM3                  ADVANCED-DH ON\n",
       "3     ADHM1                  ADVANCED-DH ON\n",
       "4     ADHM9                  ADVANCED-DH ON\n",
       "5     AERI3  Aeris Industria E Comerc... ON\n",
       "..      ...                             ...\n",
       "942  XPLG12                XP LOG FII COTAS\n",
       "943  XPML13                 XP Malls FD Inv\n",
       "944   YDUQ3                 ESTACIO PART ON\n",
       "945   RRRP3  3R Petroleum Oleo E Gas ... ON\n",
       "946  QVQP3B            524 Participacoes ON\n",
       "\n",
       "[946 rows x 2 columns]"
      ]
     },
     "execution_count": 91,
     "metadata": {},
     "output_type": "execute_result"
    }
   ],
   "source": [
    "d_frame"
   ]
  },
  {
   "cell_type": "code",
   "execution_count": 86,
   "metadata": {},
   "outputs": [],
   "source": [
    "d_frame.to_json(\"Bovespa stock list\")"
   ]
  }
 ],
 "metadata": {
  "kernelspec": {
   "display_name": "Python 3",
   "language": "python",
   "name": "python3"
  },
  "language_info": {
   "codemirror_mode": {
    "name": "ipython",
    "version": 3
   },
   "file_extension": ".py",
   "mimetype": "text/x-python",
   "name": "python",
   "nbconvert_exporter": "python",
   "pygments_lexer": "ipython3",
   "version": "3.8.5"
  }
 },
 "nbformat": 4,
 "nbformat_minor": 4
}
